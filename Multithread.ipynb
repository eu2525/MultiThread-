{
 "cells": [
  {
   "cell_type": "markdown",
   "metadata": {},
   "source": [
    "## Multi-thread 예제 code\n",
    "##### Multi-thread를 사용하기 전 "
   ]
  },
  {
   "cell_type": "code",
   "execution_count": 6,
   "metadata": {},
   "outputs": [
    {
     "name": "stdout",
     "output_type": "stream",
     "text": [
      "Sleeping 1 seconds\n",
      "Done Sleeping...\n",
      "Sleeping 1 seconds\n",
      "Done Sleeping...\n",
      "Sleeping 1 seconds\n",
      "Done Sleeping...\n",
      "Sleeping 1 seconds\n",
      "Done Sleeping...\n",
      "Sleeping 1 seconds\n",
      "Done Sleeping...\n",
      "Sleeping 1 seconds\n",
      "Done Sleeping...\n",
      "Sleeping 1 seconds\n",
      "Done Sleeping...\n",
      "Sleeping 1 seconds\n",
      "Done Sleeping...\n",
      "Sleeping 1 seconds\n",
      "Done Sleeping...\n",
      "Sleeping 1 seconds\n",
      "Done Sleeping...\n",
      "Finished in 10.0 second(s)\n"
     ]
    }
   ],
   "source": [
    "import time\n",
    " \n",
    "def do_something():\n",
    "    print('Sleeping 1 seconds')\n",
    "    time.sleep(1)\n",
    "    print('Done Sleeping...')\n",
    " \n",
    "if __name__ == '__main__':\n",
    "    start = time.perf_counter()\n",
    "    for _ in range(10):\n",
    "        do_something()\n",
    "    finish = time.perf_counter()\n",
    "    \n",
    "    print(f'Finished in {round(finish-start, 2)} second(s)')"
   ]
  },
  {
   "cell_type": "markdown",
   "metadata": {},
   "source": [
    "##### Multithread를 사용한 코드"
   ]
  },
  {
   "cell_type": "code",
   "execution_count": 2,
   "metadata": {},
   "outputs": [
    {
     "name": "stdout",
     "output_type": "stream",
     "text": [
      "Sleeping 1 seconds\n",
      "Sleeping 1 seconds\n",
      "Sleeping 1 secondsSleeping 1 seconds\n",
      "\n",
      "Sleeping 1 seconds\n",
      "Sleeping 1 seconds\n",
      "Sleeping 1 seconds\n",
      "Sleeping 1 seconds\n",
      "Sleeping 1 seconds\n",
      "Sleeping 1 seconds\n",
      "Done Sleeping...\n",
      "Done Sleeping...\n",
      "Done Sleeping...Done Sleeping...\n",
      "\n",
      "Done Sleeping...\n",
      "Done Sleeping...\n",
      "Done Sleeping...\n",
      "Done Sleeping...\n",
      "Done Sleeping...\n",
      "Done Sleeping...\n",
      "Finished in 1.05 second(s)\n"
     ]
    }
   ],
   "source": [
    "import time\n",
    "import threading\n",
    " \n",
    "def do_something():\n",
    "    print('Sleeping 1 seconds')\n",
    "    time.sleep(1)\n",
    "    print('Done Sleeping...')\n",
    " \n",
    "if __name__ == '__main__':\n",
    "    start = time.perf_counter()\n",
    "    threads = []\n",
    "    for _ in range(10):\n",
    "        t = threading.Thread(target=do_something)\n",
    "        t.start()\n",
    "        threads.append(t)\n",
    "        \n",
    "    for thread in threads:\n",
    "        thread.join()\n",
    "    finish = time.perf_counter()\n",
    " \n",
    "    print(f'Finished in {round(finish-start, 2)} second(s)')\n"
   ]
  },
  {
   "cell_type": "markdown",
   "metadata": {},
   "source": [
    "##### Multi-Thread를 사용하기 전"
   ]
  },
  {
   "cell_type": "code",
   "execution_count": 3,
   "metadata": {},
   "outputs": [
    {
     "name": "stdout",
     "output_type": "stream",
     "text": [
      "5000000050000000\n",
      "Finished in 5.19 second(s)\n"
     ]
    }
   ],
   "source": [
    "import time\n",
    "from concurrent import futures\n",
    " \n",
    "def cal_sum(input_list):\n",
    "    res = 0\n",
    "    for i in range(input_list[0], input_list[1]+1):\n",
    "        res += i\n",
    "    return res\n",
    " \n",
    "if __name__ == '__main__':\n",
    "    start = time.perf_counter()\n",
    "    \n",
    "    results = cal_sum([1,100000000])\n",
    "    print(results)\n",
    " \n",
    "    finish = time.perf_counter()\n",
    " \n",
    "    print(f'Finished in {round(finish-start, 2)} second(s)')\n"
   ]
  },
  {
   "cell_type": "markdown",
   "metadata": {},
   "source": [
    "##### Multi-thread를 사용한 후"
   ]
  },
  {
   "cell_type": "code",
   "execution_count": 7,
   "metadata": {},
   "outputs": [
    {
     "name": "stdout",
     "output_type": "stream",
     "text": [
      "5000000050000000\n",
      "Finished in 6.87 second(s)\n"
     ]
    }
   ],
   "source": [
    "import time\n",
    "from concurrent import futures\n",
    " \n",
    "def cal_sum(input_list):\n",
    "    res = 0\n",
    "    for i in range(input_list[0], input_list[1]+1):\n",
    "        res += i\n",
    "    return res\n",
    " \n",
    "if __name__ == '__main__':\n",
    "    start = time.perf_counter()\n",
    "    \n",
    "    with futures.ThreadPoolExecutor() as executor:\n",
    "        sub_routine = [[1,100000000//2], [100000000//2+1,100000000]]     \n",
    "        results = executor.map(cal_sum, sub_routine)\n",
    " \n",
    "    print(sum(results))\n",
    " \n",
    "    finish = time.perf_counter()\n",
    " \n",
    "    print(f'Finished in {round(finish-start, 2)} second(s)')\n"
   ]
  },
  {
   "cell_type": "markdown",
   "metadata": {},
   "source": [
    "### Python MultiThreading 시사점.\n",
    "\n",
    "##### 1. Python 에서의 MultiThreading은 Python의 GIL 때문에  I/O 작업을 제외한 CPU를 많이 사용하는 작업에 대해서는 성능 향상을 기대할 수 없다.\n",
    "\n",
    "##### 2. I/O 작업에서는 sleep으로 인해 아무런 동작도 취하지 못한 체 동작을 대기하는 반면에 멀티스레드에서는 sleep으로 멈춘 경우 다른 스레드로 context switching하여 효율이 개선된다."
   ]
  },
  {
   "cell_type": "markdown",
   "metadata": {},
   "source": [
    "### 출처\n",
    "##### Youtube - Python Threading Tutorial: Run Code Concurrently Using the Threading Module\n",
    "##### https://ssungkang.tistory.com/entry/python-GIL-Global-interpreter-Lock%EC%9D%80-%EB%AC%B4%EC%97%87%EC%9D%BC%EA%B9%8C\n",
    "##### https://hongl.tistory.com/270"
   ]
  }
 ],
 "metadata": {
  "kernelspec": {
   "display_name": "Python 3",
   "language": "python",
   "name": "python3"
  },
  "language_info": {
   "codemirror_mode": {
    "name": "ipython",
    "version": 3
   },
   "file_extension": ".py",
   "mimetype": "text/x-python",
   "name": "python",
   "nbconvert_exporter": "python",
   "pygments_lexer": "ipython3",
   "version": "3.7.1"
  }
 },
 "nbformat": 4,
 "nbformat_minor": 2
}
